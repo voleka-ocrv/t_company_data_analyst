{
 "cells": [
  {
   "cell_type": "code",
   "execution_count": 89,
   "metadata": {},
   "outputs": [],
   "source": [
    "import pandas as pd\n",
    "import numpy as np\n",
    "import matplotlib.pyplot as plt\n",
    "import seaborn as sns\n",
    "import math \n",
    "from scipy import stats as st\n",
    "from sklearn.metrics import f1_score, precision_score, recall_score, confusion_matrix"
   ]
  },
  {
   "cell_type": "markdown",
   "metadata": {},
   "source": [
    "# Загрузка датасетов из репозитория github"
   ]
  },
  {
   "cell_type": "code",
   "execution_count": 406,
   "metadata": {},
   "outputs": [],
   "source": [
    "cardio_alco = pd.read_csv('https://raw.githubusercontent.com/voleka-ocrv/turing_data_analyst/main/cardio_alco.csv', sep=';')\n",
    "cardio_base = pd.read_csv('https://raw.githubusercontent.com/voleka-ocrv/turing_data_analyst/main/cardio_base.csv')\n",
    "\n",
    "covid = pd.read_csv('https://raw.githubusercontent.com/voleka-ocrv/turing_data_analyst/main/covid_data.csv', parse_dates=['date'])"
   ]
  },
  {
   "cell_type": "code",
   "execution_count": 3,
   "metadata": {},
   "outputs": [],
   "source": [
    "# Note: In the original file Age is in days, we should calculate with age in years rounded down.\n",
    "cardio_base['age'] = cardio_base['age'].transform(lambda x: int(math.floor(x/365)), axis=0)"
   ]
  },
  {
   "cell_type": "markdown",
   "metadata": {},
   "source": [
    "# Question 1:\n",
    "Which country has the 3rd death rate? Death rate: total number of death per million inhabitants.\\n\",\n",
    "- [ ] Italy\n",
    "- [x] **Andorra**\n",
    "- [ ] USA\n",
    "- [ ] Belgium\n",
    "- [ ] Spain"
   ]
  },
  {
   "cell_type": "code",
   "execution_count": 4,
   "metadata": {},
   "outputs": [
    {
     "data": {
      "text/html": [
       "<div>\n",
       "<style scoped>\n",
       "    .dataframe tbody tr th:only-of-type {\n",
       "        vertical-align: middle;\n",
       "    }\n",
       "\n",
       "    .dataframe tbody tr th {\n",
       "        vertical-align: top;\n",
       "    }\n",
       "\n",
       "    .dataframe thead th {\n",
       "        text-align: right;\n",
       "    }\n",
       "</style>\n",
       "<table border=\"1\" class=\"dataframe\">\n",
       "  <thead>\n",
       "    <tr style=\"text-align: right;\">\n",
       "      <th></th>\n",
       "      <th>total_death</th>\n",
       "      <th>inhabitants</th>\n",
       "      <th>death_rate</th>\n",
       "    </tr>\n",
       "    <tr>\n",
       "      <th>location</th>\n",
       "      <th></th>\n",
       "      <th></th>\n",
       "      <th></th>\n",
       "    </tr>\n",
       "  </thead>\n",
       "  <tbody>\n",
       "    <tr>\n",
       "      <th>San Marino</th>\n",
       "      <td>42</td>\n",
       "      <td>33938.0</td>\n",
       "      <td>1237.550828</td>\n",
       "    </tr>\n",
       "    <tr>\n",
       "      <th>Belgium</th>\n",
       "      <td>9619</td>\n",
       "      <td>11589616.0</td>\n",
       "      <td>829.967102</td>\n",
       "    </tr>\n",
       "    <tr>\n",
       "      <th>Andorra</th>\n",
       "      <td>51</td>\n",
       "      <td>77265.0</td>\n",
       "      <td>660.066007</td>\n",
       "    </tr>\n",
       "  </tbody>\n",
       "</table>\n",
       "</div>"
      ],
      "text/plain": [
       "            total_death  inhabitants   death_rate\n",
       "location                                         \n",
       "San Marino           42      33938.0  1237.550828\n",
       "Belgium            9619   11589616.0   829.967102\n",
       "Andorra              51      77265.0   660.066007"
      ]
     },
     "execution_count": 4,
     "metadata": {},
     "output_type": "execute_result"
    }
   ],
   "source": [
    "covid_death_rate = covid.groupby('location').agg(\n",
    "    total_death=pd.NamedAgg('new_deaths', 'sum'), \n",
    "    inhabitants=pd.NamedAgg('population', 'max'),\n",
    "    )\n",
    "\n",
    "covid_death_rate['death_rate'] = covid_death_rate['total_death']/(covid_death_rate['inhabitants']/1e6)\n",
    "\n",
    "covid_death_rate.sort_values('death_rate', ascending=False).head(3)\n"
   ]
  },
  {
   "cell_type": "markdown",
   "metadata": {},
   "source": [
    "## Answer: \n",
    "Andorra"
   ]
  },
  {
   "cell_type": "markdown",
   "metadata": {},
   "source": [
    "---\n",
    "# Question 2\n",
    "\n",
    "How tall are the tallest 1% of people?\n",
    "- [ ] They are taller than 186 cm\n",
    "- [ ] They are taller than 175 cm\n",
    "- [ ] They are taller than 147 cm\n",
    "- [x] **They are taller than 184 cm**\n",
    "- [ ] They are taller than 191 cm"
   ]
  },
  {
   "cell_type": "code",
   "execution_count": 18,
   "metadata": {},
   "outputs": [
    {
     "data": {
      "text/plain": [
       "184.0"
      ]
     },
     "execution_count": 18,
     "metadata": {},
     "output_type": "execute_result"
    }
   ],
   "source": [
    "cardio_base['height'].quantile(0.99)"
   ]
  },
  {
   "cell_type": "markdown",
   "metadata": {},
   "source": [
    "## Answer: \n",
    "They are taller than 184 cm"
   ]
  },
  {
   "cell_type": "markdown",
   "metadata": {},
   "source": [
    "---\n",
    "# Question 3\n",
    "\n",
    "Which two features have the highest spearman rank correlation?\n",
    "- [ ] Age and weight\n",
    "- [ ] Age and blood preasure\n",
    "- [x] **Blood preasure levels (ap_hi, ap_low)**\n",
    "- [x] **Gender and height**"
   ]
  },
  {
   "cell_type": "code",
   "execution_count": 59,
   "metadata": {},
   "outputs": [
    {
     "data": {
      "image/png": "[encoded data removed]",
      "text/plain": [
       "<Figure size 600x600 with 2 Axes>"
      ]
     },
     "metadata": {},
     "output_type": "display_data"
    }
   ],
   "source": [
    "spearman_corr = cardio_base.corr(method='spearman')\n",
    "mask = pd.DataFrame(np.triu(np.ones_like(spearman_corr)), index=spearman_corr.index, columns=spearman_corr.columns).replace({0: False, 1: True})\n",
    "\n",
    "fig, ax = plt.subplots(figsize=(6, 6))\n",
    "ax.set_title(\"Spearman rank correlation\")\n",
    "sns.heatmap(spearman_corr, annot=True, fmt='.2f', cmap=\"Reds\", mask=mask);"
   ]
  },
  {
   "cell_type": "markdown",
   "metadata": {},
   "source": [
    "## Answer: \n",
    "- Blood preasure levels (ap_hi, ap_low) \n",
    "- Gender and height"
   ]
  },
  {
   "cell_type": "markdown",
   "metadata": {},
   "source": [
    "---\n",
    "# Question 4\n",
    "Do people over 50 have higher cholesterol levels than the rest?\n",
    "- [ ] Yes, their cholesterol level is 29% higher on average\n",
    "- [x] **No, it's about the same**\n",
    "- [ ] No, people over 50 have 7% lower cholesterol level\n",
    "- [ ] Yes, their cholesterol level is 14% higher on average\n",
    "- [ ] Yes, their cholesterol level is 19% higher on average"
   ]
  },
  {
   "cell_type": "code",
   "execution_count": 100,
   "metadata": {},
   "outputs": [
    {
     "data": {
      "text/plain": [
       "0.04718033578232861"
      ]
     },
     "execution_count": 100,
     "metadata": {},
     "output_type": "execute_result"
    }
   ],
   "source": [
    "cardio_base['cholesterol'].where(cardio_base['age'] > 50).mean() / cardio_base['cholesterol'].mean() - 1"
   ]
  },
  {
   "cell_type": "markdown",
   "metadata": {},
   "source": [
    "## Answer: \n",
    "No, it's about the same"
   ]
  },
  {
   "cell_type": "markdown",
   "metadata": {},
   "source": [
    "---\n",
    "# Question 5\n",
    "How much heavier the age group with the highest average weight than the age group with the lowest average weight?\n",
    "- [ ] 45% havier\n",
    "- [x] **28% havier**\n",
    "- [ ] 13% havier\n",
    "- [ ] 87% havier\n",
    "- [ ] 9% havier"
   ]
  },
  {
   "cell_type": "code",
   "execution_count": 129,
   "metadata": {},
   "outputs": [
    {
     "data": {
      "text/plain": [
       "0.2859952671226089"
      ]
     },
     "execution_count": 129,
     "metadata": {},
     "output_type": "execute_result"
    }
   ],
   "source": [
    "heavier_age_group = cardio_base.groupby('age')['weight'].mean().agg(['min', 'max'])\n",
    "heavier_age_group['max'] / heavier_age_group['min'] - 1"
   ]
  },
  {
   "cell_type": "markdown",
   "metadata": {},
   "source": [
    "## Answer: \n",
    "28% havier"
   ]
  },
  {
   "cell_type": "markdown",
   "metadata": {},
   "source": [
    "---\n",
    "# Question 6\n",
    "Which of the following statements is true with 95% confidence?\n",
    "- [ ] Smokers have higher blood preassure than non-smokers\n",
    "- [x] **Smokers have higher cholisterol level than non-smokers**\n",
    "- [ ] Smokers weight less than non-smokers\n",
    "- [x] **Men have higher blood preassure than women**"
   ]
  },
  {
   "cell_type": "code",
   "execution_count": 6,
   "metadata": {},
   "outputs": [],
   "source": [
    "alpha = .05"
   ]
  },
  {
   "cell_type": "markdown",
   "metadata": {},
   "source": [
    "### Smokers have higher blood preassure than non-smokers\n",
    "False"
   ]
  },
  {
   "cell_type": "code",
   "execution_count": 26,
   "metadata": {},
   "outputs": [
    {
     "name": "stdout",
     "output_type": "stream",
     "text": [
      "H0: Smokers and non-smokers have the same blood pressure\n",
      "H1: Smokers have higher blood preassure than non-smokers\n",
      "p-значение:  0.461244784929987\n",
      "p-значение / 2:  0.2306223924649935\n",
      "Smokers: 128.361\n",
      "Non-smokers: 128.861\n",
      "Do not reject null hypothesis H0\n"
     ]
    }
   ],
   "source": [
    "print('''H0: Smokers and non-smokers have the same blood pressure\\nH1: Smokers have higher blood preassure than non-smokers''')\n",
    "sample_1 = cardio_base[cardio_base['smoke'] == 1]['ap_hi'] # smokeres\n",
    "sample_2 = cardio_base[cardio_base['smoke'] == 0]['ap_hi'] # non-smokeres\n",
    "\n",
    "results = st.ttest_ind(sample_1, sample_2, equal_var = False)\n",
    "\n",
    "print('p-значение: ', results.pvalue)\n",
    "print('p-значение / 2: ', results.pvalue / 2)\n",
    "print(f\"Smokers: {sample_1.mean():.3f}\\nNon-smokers: {sample_2.mean():.3f}\")\n",
    "\n",
    "\n",
    "if results.pvalue < alpha / 2 and sample_1 and sample_1.mean() > sample_2.mean():\n",
    "    print('Reject null hypothesis H0')\n",
    "else:\n",
    "    print('Do not reject null hypothesis H0')"
   ]
  },
  {
   "cell_type": "code",
   "execution_count": 27,
   "metadata": {},
   "outputs": [
    {
     "name": "stdout",
     "output_type": "stream",
     "text": [
      "H0: Smokers and non-smokers have the same blood pressure\n",
      "H1: Smokers have higher blood preassure than non-smokers\n",
      "p-значение:  0.13044186949533218\n",
      "p-значение / 2:  0.06522093474766609\n",
      "Smokers: 99.775\n",
      "Non-smokers: 96.327\n",
      "Do not reject null hypothesis H0\n"
     ]
    }
   ],
   "source": [
    "print('''H0: Smokers and non-smokers have the same blood pressure\\nH1: Smokers have higher blood preassure than non-smokers''')\n",
    "sample_1 = cardio_base[cardio_base['smoke'] == 1]['ap_lo'] # smokeres\n",
    "sample_2 = cardio_base[cardio_base['smoke'] == 0]['ap_lo'] # non-smokeres\n",
    "\n",
    "results = st.ttest_ind(sample_1, sample_2, equal_var = False)\n",
    "\n",
    "print('p-значение: ', results.pvalue)\n",
    "print('p-значение / 2: ', results.pvalue / 2)\n",
    "print(f\"Smokers: {sample_1.mean():.3f}\\nNon-smokers: {sample_2.mean():.3f}\")\n",
    "\n",
    "\n",
    "if results.pvalue < alpha / 2 and sample_1 and sample_1.mean() > sample_2.mean():\n",
    "    print('Reject null hypothesis H0')\n",
    "else:\n",
    "    print('Do not reject null hypothesis H0')"
   ]
  },
  {
   "cell_type": "markdown",
   "metadata": {},
   "source": [
    "### Smokers have higher cholisterol level than non-smokers\n",
    "True"
   ]
  },
  {
   "cell_type": "code",
   "execution_count": 21,
   "metadata": {},
   "outputs": [
    {
     "name": "stdout",
     "output_type": "stream",
     "text": [
      "H0: Smokers and non-smokers have the same cholisterol level\n",
      "H1: Smokers have higher cholisterol level than non-smokers\n",
      "p-значение:  0.006222972569800228\n",
      "p-значение / 2:  0.003111486284900114\n",
      "Smokers: 1.390\n",
      "Non-smokers: 1.365\n",
      "Reject null hypothesis H0\n"
     ]
    }
   ],
   "source": [
    "print('''H0: Smokers and non-smokers have the same cholisterol level\\nH1: Smokers have higher cholisterol level than non-smokers''')\n",
    "sample_1 = cardio_base[cardio_base['smoke'] == 1]['cholesterol'] # smokeres\n",
    "sample_2 = cardio_base[cardio_base['smoke'] == 0]['cholesterol'] # non-smokeres\n",
    "results = st.ttest_ind(sample_1, sample_2, equal_var = False)\n",
    "\n",
    "print('p-значение: ', results.pvalue)\n",
    "print('p-значение / 2: ', results.pvalue / 2)\n",
    "print(f\"Smokers: {sample_1.mean():.3f}\\nNon-smokers: {sample_2.mean():.3f}\")\n",
    "\n",
    "if results.pvalue < alpha / 2 and sample_1.mean() > sample_2.mean():\n",
    "    print('Reject null hypothesis H0')\n",
    "else:\n",
    "    print('Do not reject null hypothesis H0')"
   ]
  },
  {
   "cell_type": "markdown",
   "metadata": {},
   "source": [
    "### Smokers weight less than non-smokers\n",
    "False"
   ]
  },
  {
   "cell_type": "code",
   "execution_count": 22,
   "metadata": {},
   "outputs": [
    {
     "name": "stdout",
     "output_type": "stream",
     "text": [
      "H0: Smokers and non-smokers have the same weight\n",
      "H1: Smokers weight less than non-smokers\n",
      "p-значение:  1.6785734402177582e-65\n",
      "p-значение / 2:  8.392867201088791e-66\n",
      "Smokers: 77.344\n",
      "Non-smokers: 73.902\n",
      "Do not reject null hypothesis H0\n"
     ]
    }
   ],
   "source": [
    "print('''H0: Smokers and non-smokers have the same weight\\nH1: Smokers weight less than non-smokers''')\n",
    "sample_1 = cardio_base[cardio_base['smoke'] == 1]['weight'] # smokeres\n",
    "sample_2 = cardio_base[cardio_base['smoke'] == 0]['weight'] # non-smokeres\n",
    "results = st.ttest_ind(sample_1, sample_2, equal_var = False)\n",
    "\n",
    "print('p-значение: ', results.pvalue)\n",
    "print('p-значение / 2: ', results.pvalue / 2)\n",
    "print(f\"Smokers: {sample_1.mean():.3f}\\nNon-smokers: {sample_2.mean():.3f}\")\n",
    "\n",
    "if results.pvalue < alpha / 2 and sample_1.mean() < sample_2.mean():\n",
    "    print('Reject null hypothesis H0')\n",
    "else:\n",
    "    print('Do not reject null hypothesis H0')"
   ]
  },
  {
   "cell_type": "markdown",
   "metadata": {},
   "source": [
    "### Men have higher blood preassure than women\n",
    "True"
   ]
  },
  {
   "cell_type": "code",
   "execution_count": 28,
   "metadata": {},
   "outputs": [
    {
     "name": "stdout",
     "output_type": "stream",
     "text": [
      "H0: Men and women have the same blood pressure\n",
      "H1: Men have higher blood pressure than women\n",
      "p-значение:  0.1038392595181402\n",
      "p-значение / 2:  0.0519196297590701\n",
      "Smokers: 128.139\n",
      "Non-smokers: 130.079\n",
      "Do not reject null hypothesis H0\n"
     ]
    }
   ],
   "source": [
    "print('''H0: Men and women have the same blood pressure\\nH1: Men have higher blood pressure than women''')\n",
    "sample_1 = cardio_base[cardio_base['gender'] == 1]['ap_hi'] # women\n",
    "sample_2 = cardio_base[cardio_base['gender'] == 2]['ap_hi'] # men\n",
    "results = st.ttest_ind(sample_1, sample_2, equal_var = False)\n",
    "\n",
    "print('p-значение: ', results.pvalue)\n",
    "print('p-значение / 2: ', results.pvalue / 2)\n",
    "print(f\"Smokers: {sample_1.mean():.3f}\\nNon-smokers: {sample_2.mean():.3f}\")\n",
    "\n",
    "if results.pvalue < alpha / 2 and sample_1.mean() < sample_2.mean():\n",
    "    print('Reject null hypothesis H0')\n",
    "else:\n",
    "    print('Do not reject null hypothesis H0')"
   ]
  },
  {
   "cell_type": "markdown",
   "metadata": {},
   "source": [
    "Too small distinguish between p-value and alpha. So I'd reject H0 here."
   ]
  },
  {
   "cell_type": "code",
   "execution_count": 29,
   "metadata": {},
   "outputs": [
    {
     "name": "stdout",
     "output_type": "stream",
     "text": [
      "H0: Men and women have the same blood pressure\n",
      "H1: Men have higher blood pressure than women\n",
      "p-значение:  0.00013735011856314677\n",
      "p-значение / 2:  6.867505928157339e-05\n",
      "Smokers: 94.523\n",
      "Non-smokers: 100.552\n",
      "Reject null hypothesis H0\n"
     ]
    }
   ],
   "source": [
    "print('''H0: Men and women have the same blood pressure\\nH1: Men have higher blood pressure than women''')\n",
    "sample_1 = cardio_base[cardio_base['gender'] == 1]['ap_lo'] # women\n",
    "sample_2 = cardio_base[cardio_base['gender'] == 2]['ap_lo'] # men\n",
    "results = st.ttest_ind(sample_1, sample_2, equal_var = False)\n",
    "\n",
    "print('p-значение: ', results.pvalue)\n",
    "print('p-значение / 2: ', results.pvalue / 2)\n",
    "print(f\"Smokers: {sample_1.mean():.3f}\\nNon-smokers: {sample_2.mean():.3f}\")\n",
    "\n",
    "if results.pvalue < alpha / 2 and sample_1.mean() < sample_2.mean():\n",
    "    print('Reject null hypothesis H0')\n",
    "else:\n",
    "    print('Do not reject null hypothesis H0')"
   ]
  },
  {
   "cell_type": "markdown",
   "metadata": {},
   "source": [
    "## Answer: \n",
    "The fallowing statements are True:\n",
    "- Smokers have higher cholisterol level than non-smokers\n",
    "- Men have higher blood preassure than women"
   ]
  },
  {
   "cell_type": "markdown",
   "metadata": {},
   "source": [
    "---\n",
    "# Question 7\n",
    "What is the probabilyty that a country has GDP over $10 000, if we know that they have at least 5 hospital beds per 1000 inhabitants?\n",
    "- [ ] 92%\n",
    "- [x] **88%**\n",
    "- [ ] 71%\n",
    "- [ ] 54%\n",
    "- [ ] 39%"
   ]
  },
  {
   "cell_type": "code",
   "execution_count": 457,
   "metadata": {},
   "outputs": [],
   "source": [
    "covid_beds = covid.copy()\n",
    "\n",
    "# Remove rows are relating to World at all (not to a specific country).\n",
    "# and countries where we do not know about hospital beds number\n",
    "covid_beds = covid_beds[~covid_beds['location'].isin(['World'])]\n",
    "covid_beds = covid_beds[covid_beds['hospital_beds_per_thousand'].notna()]"
   ]
  },
  {
   "cell_type": "code",
   "execution_count": 458,
   "metadata": {},
   "outputs": [],
   "source": [
    "cond = covid_beds['gdp_per_capita'] > 10000\n",
    "covid_beds['gdp_A'] = '<= 10K'\n",
    "covid_beds.loc[:, 'gdp_A'] = covid_beds['gdp_A'].mask(cond, '> 10K')\n",
    "\n",
    "cond = covid_beds['hospital_beds_per_thousand'] >= 5\n",
    "covid_beds['beds_B'] = '< 5'\n",
    "covid_beds.loc[:, 'beds_B'] = covid_beds['beds_B'].mask(cond, '>= 5')"
   ]
  },
  {
   "cell_type": "markdown",
   "metadata": {},
   "source": [
    "Here we use Bayes' Theorem\n",
    "$$P(A|B) = \\dfrac{P(B|A)*P(A)}{P(B)}$$\n",
    "- A, B\t-\tevents\n",
    "- P(A|B)\t-\tprobability of A given B is true\n",
    "- P(B|A)\t-\tprobability of B given A is true\n",
    "- P(A), P(B)\t-\tthe independent probabilities of A and B\n",
    "\n",
    "What is the probabilyty that a country has GDP over $10 000, if we know that they have at least 5 hospital beds per 1000 inhabitants?\n",
    "- A = {a country has GDP over $10 000}\n",
    "- B = {a country has at least 5 hospital beds per 1000}\n",
    "- P(A|B) = (posterior probability) the probability that a country has GDP over $10 000, if we know that they have at least 5 hospital beds per 1000 inhabitants\n",
    "- P(A) = (prior probability)the probability that a country has GDP over $10 000\n",
    "- P(B|A) = (likelihood) the probability that a country has at least 5 hospital beds per 1000 inhabitants given that it has had GDP over $10 000\n",
    "- P(B) = (evidence) the probability that a country has at least 5 hospital beds per 100 (regardless its GDP) \n",
    "$$P(B) = \\sum_{i=1}^n{P(B|A_i)*P(A_i)}$$"
   ]
  },
  {
   "cell_type": "code",
   "execution_count": 459,
   "metadata": {},
   "outputs": [],
   "source": [
    "# P(A)\n",
    "P_A = covid_beds['gdp_A'].value_counts(normalize=True)\n",
    "# P(B)\n",
    "P_B =covid_beds['beds_B'].value_counts(normalize=True)\n",
    "# P(B|A)\n",
    "P_B_and_A = covid_beds.groupby('gdp_A')['beds_B'].value_counts(normalize=True).sort_index(ascending=False)"
   ]
  },
  {
   "cell_type": "markdown",
   "metadata": {},
   "source": [
    "We would like to know what is the probability that a country has GDP over $10 000, if we know that they have at least 5 hospital beds per 1000 inhabitants.\n",
    "\n",
    "So, what have we already known?\n",
    "\n",
    "If we did not know anything about hospital beds in the country we would say that the probability that it has GDP over $10 000 is **P(A)** - a prior probability.\n"
   ]
  },
  {
   "cell_type": "code",
   "execution_count": 460,
   "metadata": {},
   "outputs": [
    {
     "name": "stdout",
     "output_type": "stream",
     "text": [
      "P(A)\n"
     ]
    },
    {
     "data": {
      "text/plain": [
       "> 10K     0.665297\n",
       "<= 10K    0.334703\n",
       "Name: gdp_A, dtype: float64"
      ]
     },
     "execution_count": 460,
     "metadata": {},
     "output_type": "execute_result"
    }
   ],
   "source": [
    "print('P(A)')\n",
    "P_A"
   ]
  },
  {
   "cell_type": "markdown",
   "metadata": {},
   "source": [
    "But we just have known that the country has at least 5 hospital beds per 1000 inhabitants.\n",
    "\n",
    "**P(A|B) = P(B|A) * P(A) / P(B)**\n",
    "\n",
    "If a country has at least 5 hospital beds per 1000 inhabitants **P(B)** there are two posibilities **P(B|A)**: \n",
    "- either it has GDP over $10 000 - **P('>= 5'|'> 10K')**,\n",
    "- or its GDP is equal or less than $10 000 - **P('>= 5'|'<= 10K')**."
   ]
  },
  {
   "cell_type": "code",
   "execution_count": 461,
   "metadata": {},
   "outputs": [
    {
     "name": "stdout",
     "output_type": "stream",
     "text": [
      "P(B|A)\n"
     ]
    },
    {
     "data": {
      "text/plain": [
       "gdp_A   beds_B\n",
       "> 10K   >= 5      0.237330\n",
       "        < 5       0.762670\n",
       "<= 10K  >= 5      0.079018\n",
       "        < 5       0.920982\n",
       "Name: beds_B, dtype: float64"
      ]
     },
     "execution_count": 461,
     "metadata": {},
     "output_type": "execute_result"
    }
   ],
   "source": [
    "print('P(B|A)')\n",
    "P_B_and_A"
   ]
  },
  {
   "cell_type": "code",
   "execution_count": 467,
   "metadata": {},
   "outputs": [
    {
     "name": "stdout",
     "output_type": "stream",
     "text": [
      "\n",
      "P('>= 5'|'> 10K') = 0.237330 \n",
      "P('>= 5'|'<= 10K') = 0.079018\n"
     ]
    }
   ],
   "source": [
    "print(f'''\n",
    "P('>= 5'|'> 10K') = {P_B_and_A.loc[('> 10K', '>= 5')]:.6f} \n",
    "P('>= 5'|'<= 10K') = {P_B_and_A.loc[('<= 10K', '>= 5')]:.6f}''')"
   ]
  },
  {
   "cell_type": "code",
   "execution_count": 468,
   "metadata": {},
   "outputs": [
    {
     "name": "stdout",
     "output_type": "stream",
     "text": [
      "\n",
      "P(B) = sum(P(B|A) * P(A))\n",
      "P('>= 5') = P('>= 5'|'> 10K') * P('> 10K') + P('>= 5'|'<= 10K') * P('<= 10K')\n",
      "P('>= 5') = 0.237330 * 0.665297 + 0.079018 * 0.334703 = 0.184342\n"
     ]
    }
   ],
   "source": [
    "print(f'''\n",
    "P(B) = sum(P(B|A) * P(A))\n",
    "P('>= 5') = P('>= 5'|'> 10K') * P('> 10K') + P('>= 5'|'<= 10K') * P('<= 10K')\n",
    "P('>= 5') = {P_B_and_A.loc[('> 10K', '>= 5')]:.6f} * {P_A['> 10K']:.6f} + {P_B_and_A.loc[('<= 10K', '>= 5')]:.6f} * {P_A['<= 10K']:.6f} = {P_B_and_A.loc[('> 10K', '>= 5')] * P_A['> 10K'] + P_B_and_A.loc[('<= 10K', '>= 5')] * P_A['<= 10K']:.6f}''')"
   ]
  },
  {
   "cell_type": "code",
   "execution_count": 464,
   "metadata": {},
   "outputs": [
    {
     "name": "stdout",
     "output_type": "stream",
     "text": [
      "P(B)\n"
     ]
    },
    {
     "data": {
      "text/plain": [
       "< 5     0.815658\n",
       ">= 5    0.184342\n",
       "Name: beds_B, dtype: float64"
      ]
     },
     "execution_count": 464,
     "metadata": {},
     "output_type": "execute_result"
    }
   ],
   "source": [
    "print('P(B)')\n",
    "P_B"
   ]
  },
  {
   "cell_type": "code",
   "execution_count": 469,
   "metadata": {},
   "outputs": [
    {
     "name": "stdout",
     "output_type": "stream",
     "text": [
      "Thus, the probatility, that the country has GPR over 10K given that it has at least 5 hospital beds per 1000 inhabitants is:\n",
      "P(A|B) = P(B|A) * P(A) / P(B)\n",
      "P('> 10K'|'> 5') = P('>= 5'|'> 10K) * P('> 10K') / P('>= 5')\n",
      "P(B|A) * P(A) = P('>= 5'|'> 10K) * P('> 10K') = 0.16\n",
      "P(B) = P('>= 5') = 0.18\n",
      "P(A|B) = 0.888888888888889\n",
      "\n"
     ]
    }
   ],
   "source": [
    "print(f'''Thus, the probatility, that the country has GPR over 10K given that it has at least 5 hospital beds per 1000 inhabitants is:\n",
    "P(A|B) = P(B|A) * P(A) / P(B)\n",
    "P('> 10K'|'> 5') = P('>= 5'|'> 10K) * P('> 10K') / P('>= 5')\n",
    "P(B|A) * P(A) = P('>= 5'|'> 10K) * P('> 10K') = {round(P_B_and_A.loc[('> 10K', '>= 5')] * P_A['> 10K'], 2)}\n",
    "P(B) = P('>= 5') = {round(P_B_and_A.loc[('> 10K', '>= 5')] * P_A['> 10K'] + P_B_and_A.loc[('<= 10K', '>= 5')] * P_A['<= 10K'], 2)}\n",
    "P(A|B) = {round(P_B_and_A.loc[('> 10K', '>= 5')] * P_A['> 10K'], 2) / round(P_B_and_A.loc[('> 10K', '>= 5')] * P_A['> 10K'] + P_B_and_A.loc[('<= 10K', '>= 5')] * P_A['<= 10K'], 2)}\n",
    "''')"
   ]
  },
  {
   "cell_type": "markdown",
   "metadata": {},
   "source": [
    "The same conclusions we can make with confusion_matrix."
   ]
  },
  {
   "cell_type": "code",
   "execution_count": 466,
   "metadata": {},
   "outputs": [
    {
     "data": {
      "text/html": [
       "<style type=\"text/css\">\n",
       "#T_5de76_row1_col1, #T_5de76_row1_col2 {\n",
       "  background-color: #e6ffe6;\n",
       "  color: green;\n",
       "}\n",
       "</style>\n",
       "<table id=\"T_5de76\">\n",
       "  <thead>\n",
       "    <tr>\n",
       "      <th class=\"index_name level0\" >gdp_A</th>\n",
       "      <th id=\"T_5de76_level0_col0\" class=\"col_heading level0 col0\" ><= 10K</th>\n",
       "      <th id=\"T_5de76_level0_col1\" class=\"col_heading level0 col1\" >> 10K</th>\n",
       "      <th id=\"T_5de76_level0_col2\" class=\"col_heading level0 col2\" >sum</th>\n",
       "    </tr>\n",
       "    <tr>\n",
       "      <th class=\"index_name level0\" >beds_B</th>\n",
       "      <th class=\"blank col0\" >&nbsp;</th>\n",
       "      <th class=\"blank col1\" >&nbsp;</th>\n",
       "      <th class=\"blank col2\" >&nbsp;</th>\n",
       "    </tr>\n",
       "  </thead>\n",
       "  <tbody>\n",
       "    <tr>\n",
       "      <th id=\"T_5de76_level0_row0\" class=\"row_heading level0 row0\" >< 5</th>\n",
       "      <td id=\"T_5de76_row0_col0\" class=\"data row0 col0\" >0.31</td>\n",
       "      <td id=\"T_5de76_row0_col1\" class=\"data row0 col1\" >0.51</td>\n",
       "      <td id=\"T_5de76_row0_col2\" class=\"data row0 col2\" >0.82</td>\n",
       "    </tr>\n",
       "    <tr>\n",
       "      <th id=\"T_5de76_level0_row1\" class=\"row_heading level0 row1\" >>= 5</th>\n",
       "      <td id=\"T_5de76_row1_col0\" class=\"data row1 col0\" >0.03</td>\n",
       "      <td id=\"T_5de76_row1_col1\" class=\"data row1 col1\" >0.16</td>\n",
       "      <td id=\"T_5de76_row1_col2\" class=\"data row1 col2\" >0.18</td>\n",
       "    </tr>\n",
       "    <tr>\n",
       "      <th id=\"T_5de76_level0_row2\" class=\"row_heading level0 row2\" >sum</th>\n",
       "      <td id=\"T_5de76_row2_col0\" class=\"data row2 col0\" >0.33</td>\n",
       "      <td id=\"T_5de76_row2_col1\" class=\"data row2 col1\" >0.67</td>\n",
       "      <td id=\"T_5de76_row2_col2\" class=\"data row2 col2\" >1.00</td>\n",
       "    </tr>\n",
       "  </tbody>\n",
       "</table>\n"
      ],
      "text/plain": [
       "<pandas.io.formats.style.Styler at 0x7fee5f2cf160>"
      ]
     },
     "execution_count": 466,
     "metadata": {},
     "output_type": "execute_result"
    }
   ],
   "source": [
    "confusion_matrix = pd.crosstab(covid_beds['beds_B'], covid_beds['gdp_A'], normalize=True)\n",
    "confusion_matrix.loc['sum', :] = confusion_matrix.sum(axis=0)\n",
    "confusion_matrix.loc[:, 'sum'] = confusion_matrix.sum(axis=1)\n",
    "confusion_matrix.style.applymap(lambda x: f\"background-color: #e6ffe6; color: green;\", subset=('>= 5', ['> 10K', 'sum'])).format('{:.2f}')"
   ]
  },
  {
   "cell_type": "markdown",
   "metadata": {},
   "source": [
    "## Answer: \n",
    "88%"
   ]
  },
  {
   "cell_type": "markdown",
   "metadata": {},
   "source": [
    "---\n",
    "# Question 8\n",
    "What is the F1 score of the following statement: \n",
    "\n",
    "Countries, where more than 20% population is over 65 years old, have death rates over 50 per million inhabitants. Ignore countries, where any of the necessary information is missing!\n",
    "- [ ] 0.15\n",
    "- [ ] 0.73\n",
    "- [ ] 0.87\n",
    "- [x] **0.18**\n",
    "- [ ] 0.21"
   ]
  },
  {
   "cell_type": "code",
   "execution_count": 59,
   "metadata": {},
   "outputs": [],
   "source": [
    "covid_fscore = covid.groupby('location').agg(\n",
    "    aged_65_older_percent=pd.NamedAgg('aged_65_older_percent', 'max'), \n",
    ").join(covid_death_rate['death_rate'])\n",
    "covid_fscore = covid_fscore[covid_fscore['aged_65_older_percent'].notna()]\n",
    "covid_fscore['aged_65_older_percent'] = covid_fscore['aged_65_older_percent'].astype('float')\n",
    "\n",
    "cond = covid_fscore['aged_65_older_percent'] > 20\n",
    "covid_fscore.loc[:, 'aged_65_older_percent'] = covid_fscore['aged_65_older_percent'].mask(cond, 1)\n",
    "covid_fscore.loc[:, 'aged_65_older_percent'] = covid_fscore['aged_65_older_percent'].where(cond, 0)\n",
    "\n",
    "cond = covid_fscore['death_rate'] > 50\n",
    "covid_fscore.loc[:, 'death_rate'] = covid_fscore['death_rate'].mask(cond, 1)\n",
    "covid_fscore.loc[:, 'death_rate'] = covid_fscore['death_rate'].where(cond, 0)"
   ]
  },
  {
   "cell_type": "code",
   "execution_count": 68,
   "metadata": {},
   "outputs": [],
   "source": [
    "# сountries, where more than 20% population is over 65 years old\n",
    "y_pred = covid_fscore['aged_65_older_percent']\n",
    "# have death rates over 50 per million inhabitants\n",
    "y_true = covid_fscore['death_rate']"
   ]
  },
  {
   "cell_type": "code",
   "execution_count": 81,
   "metadata": {},
   "outputs": [
    {
     "data": {
      "text/html": [
       "<div>\n",
       "<style scoped>\n",
       "    .dataframe tbody tr th:only-of-type {\n",
       "        vertical-align: middle;\n",
       "    }\n",
       "\n",
       "    .dataframe tbody tr th {\n",
       "        vertical-align: top;\n",
       "    }\n",
       "\n",
       "    .dataframe thead tr th {\n",
       "        text-align: left;\n",
       "    }\n",
       "</style>\n",
       "<table border=\"1\" class=\"dataframe\">\n",
       "  <thead>\n",
       "    <tr>\n",
       "      <th></th>\n",
       "      <th></th>\n",
       "      <th colspan=\"2\" halign=\"left\">have death rates over 50 per million inhabitants</th>\n",
       "    </tr>\n",
       "    <tr>\n",
       "      <th></th>\n",
       "      <th></th>\n",
       "      <th>True</th>\n",
       "      <th>False</th>\n",
       "    </tr>\n",
       "  </thead>\n",
       "  <tbody>\n",
       "    <tr>\n",
       "      <th rowspan=\"2\" valign=\"top\">сountries, where more than 20% population is over 65 years old</th>\n",
       "      <th>True</th>\n",
       "      <td>4</td>\n",
       "      <td>3</td>\n",
       "    </tr>\n",
       "    <tr>\n",
       "      <th>False</th>\n",
       "      <td>33</td>\n",
       "      <td>144</td>\n",
       "    </tr>\n",
       "  </tbody>\n",
       "</table>\n",
       "</div>"
      ],
      "text/plain": [
       "                                                         have death rates over 50 per million inhabitants  \\\n",
       "                                                                                                    True    \n",
       "сountries, where more than 20% population is ov... True                                                 4   \n",
       "                                                   False                                               33   \n",
       "\n",
       "                                                                \n",
       "                                                         False  \n",
       "сountries, where more than 20% population is ov... True      3  \n",
       "                                                   False   144  "
      ]
     },
     "execution_count": 81,
     "metadata": {},
     "output_type": "execute_result"
    }
   ],
   "source": [
    "# confusion_matrix returns tn, fp, fn, tp\n",
    "cf = pd.DataFrame(\n",
    "    confusion_matrix(y_true, y_pred), \n",
    "    columns=pd.MultiIndex.from_tuples([(i, j) for j in [False, True] for i in ['сountries, where more than 20% population is over 65 years old']]),\n",
    "    index=pd.MultiIndex.from_tuples([(i, j) for j in [False, True] for i in ['have death rates over 50 per million inhabitants']]),\n",
    "    )\n",
    "cf = cf.reindex(sorted(cf.index, reverse=True), axis=0).reindex(sorted(cf.columns, reverse=True), axis=1).T\n",
    "cf"
   ]
  },
  {
   "cell_type": "code",
   "execution_count": 87,
   "metadata": {},
   "outputs": [
    {
     "name": "stdout",
     "output_type": "stream",
     "text": [
      "Precision (also called positive predictive value) is the fraction of relevant instances among the retrieved instances\n",
      "Precision = tp / (tp + fp)\n",
      "Precision = 0.57\n",
      "\n",
      "Recall (also known as sensitivity) is the fraction of relevant instances that were retrieved. \n",
      "Recall = tp / (tp + fn)\n",
      "Recall = 0.11\n",
      "\n",
      "f1-score is the harmonic mean of a precision and recall values. \n",
      "f1-score = 2 x (Precision x Recall) / (Precision + Recall)\n",
      "f1-score = 0.18\n",
      "\n"
     ]
    }
   ],
   "source": [
    "# Precision (also called positive predictive value) is the fraction of relevant instances among the retrieved instances\n",
    "# Precision = tp / (tp + fp)\n",
    "print(f\"\"\"Precision (also called positive predictive value) is the fraction of relevant instances among the retrieved instances\n",
    "Precision = tp / (tp + fp)\n",
    "Precision = {precision_score(y_true, y_pred, average='binary'):.2f}\n",
    "\n",
    "Recall (also known as sensitivity) is the fraction of relevant instances that were retrieved. \n",
    "Recall = tp / (tp + fn)\n",
    "Recall = {recall_score(y_true, y_pred, average='binary'):.2f}\n",
    "\n",
    "f1-score is the harmonic mean of a precision and recall values. \n",
    "f1-score = 2 x (Precision x Recall) / (Precision + Recall)\n",
    "f1-score = {f1_score(y_true, y_pred, average='binary'):.2f}\n",
    "\"\"\")"
   ]
  },
  {
   "cell_type": "markdown",
   "metadata": {},
   "source": [
    "## Answer: \n",
    "0.18"
   ]
  },
  {
   "cell_type": "markdown",
   "metadata": {},
   "source": [
    "---\n",
    "# Question 9: \n",
    "Are men are more likely to be smoker than women? The data contains information to identify gender IDs!\n",
    "- [x] **Yes, men are 12x more likely to be smokers**\n",
    "- [ ] Yes, men are 7x more likely to be smokers\n",
    "- [ ] Similar portion of men and women are smokers\n",
    "- [ ] No, women are 12x more likely to be smokers"
   ]
  },
  {
   "cell_type": "markdown",
   "metadata": {},
   "source": [
    "## Identifying gender\n"
   ]
  },
  {
   "cell_type": "markdown",
   "metadata": {},
   "source": [
    "We can see marks 1 and 2 in column \"gender\" but we don't know if mark 1 represents men or women. \n",
    "\n",
    "We also know that men, on average, are about 15 percent to 20 percent larger than women.\n",
    "\n",
    "So we can estimate average height for gender 1 and 2."
   ]
  },
  {
   "cell_type": "code",
   "execution_count": 97,
   "metadata": {},
   "outputs": [
    {
     "data": {
      "image/png": "[encoded data removed]",
      "text/plain": [
       "<Figure size 640x480 with 1 Axes>"
      ]
     },
     "metadata": {},
     "output_type": "display_data"
    }
   ],
   "source": [
    "df = cardio_base\n",
    "ax = sns.boxplot(x=df['gender'], y=cardio_base['height'])\n",
    "ax.set_title('Height by gender');"
   ]
  },
  {
   "cell_type": "markdown",
   "metadata": {},
   "source": [
    "Thus, we can conclude that mark 1 is used for female, 2 - for male."
   ]
  },
  {
   "cell_type": "markdown",
   "metadata": {},
   "source": [
    "## Probability calculation"
   ]
  },
  {
   "cell_type": "markdown",
   "metadata": {},
   "source": [
    "Let's say we take a random person whose gender is male. What is the probability that he is a smoker?\n",
    "\n",
    "Here we use Bayes' Theorem\n",
    "$$P(A|B) = \\dfrac{P(B|A)*P(A)}{P(B)}$$\n",
    "- P(A|B) = P(smoker|men)\n",
    "- P(A) = P(smoker)\n",
    "- P(B) = P(men)\n",
    "- P(B|A) = P(men|smoker)\n",
    "$$P(smoker|men) = \\frac{P(men|smoker)*P(smoker)}{P(men)}$$"
   ]
  },
  {
   "cell_type": "code",
   "execution_count": 201,
   "metadata": {},
   "outputs": [],
   "source": [
    "P_A = cardio_base['smoke'].value_counts(normalize=True)\n",
    "P_B = cardio_base['gender'].value_counts(normalize=True)\n",
    "P_BA = cardio_base[cardio_base['smoke'] == 1]['gender'].value_counts(normalize=True)"
   ]
  },
  {
   "cell_type": "code",
   "execution_count": 247,
   "metadata": {},
   "outputs": [
    {
     "name": "stdout",
     "output_type": "stream",
     "text": [
      "If we don't know the gender we would say that the probability that a person is a smoker equals P(A)\n",
      "P(A) = P(smoker) - the probability to be a smoker regardless to gender\n",
      "0    0.911871\n",
      "1    0.088129\n",
      "Name: smoke, dtype: float64\n",
      "P(smoker) = 0.088129\n",
      "\n",
      "Then we find out that the person is a MAN.\n",
      "P(B) = P(men) - the probability to choose a man from the whole group\n",
      "1    0.650429\n",
      "2    0.349571\n",
      "Name: gender, dtype: float64\n",
      "P(men) = 0.349571\n",
      "\n",
      "Distributon of men and women among smokers\n",
      "2    0.868212\n",
      "1    0.131788\n",
      "Name: gender, dtype: float64\n",
      "P(B|A) = P(men|smoker) the probability that a random smoker is a man\n",
      "P(men|smoker) = 0.868212\n",
      "P(men|smoker) * P(smoker) = 0.868212 * 0.088129 = 0.076514\n",
      "\n",
      "The probability that a random man is a smoker P(A|B) = P(smoker|men)\n",
      "P(smoker|men) = 0.868212 * 0.088129 / 0.349571 = 0.076514 / 0.349571 = 0.218880\n",
      "\n"
     ]
    }
   ],
   "source": [
    "print(f\"\"\"If we don't know the gender we would say that the probability that a person is a smoker equals P(A)\n",
    "P(A) = P(smoker) - the probability to be a smoker regardless to gender\n",
    "{P_A}\n",
    "P(smoker) = {P_A.loc[1]:.6f}\n",
    "\n",
    "Then we find out that the person is a MAN.\n",
    "P(B) = P(men) - the probability of choosing a man from the whole group\n",
    "{P_B}\n",
    "P(men) = {P_B.loc[2]:.6f}\n",
    "\n",
    "Distributon of men and women among smokers\n",
    "{P_BA}\n",
    "P(B|A) = P(men|smoker) the probability that a random smoker is a man\n",
    "P(men|smoker) = {P_BA.loc[2]:.6f}\n",
    "P(men|smoker) * P(smoker) = {P_BA.loc[2]:.6f} * {P_A.loc[1]:.6f} = {P_BA.loc[2] * P_A.loc[1]:.6f}\n",
    "\n",
    "The probability that a random man is a smoker P(A|B) = P(smoker|men)\n",
    "P(smoker|men) = {P_BA.loc[2]:.6f} * {P_A.loc[1]:.6f} / {P_B.loc[2]:.6f} = {P_BA.loc[2]*P_A.loc[1]:.6f} / {P_B.loc[2]:.6f} = {P_BA.loc[2] * P_A.loc[1] / P_B.loc[2]:.6f}\n",
    "\"\"\")\n",
    "P_smoker_men = P_BA.loc[2] * P_A.loc[1] / P_B.loc[2]"
   ]
  },
  {
   "cell_type": "code",
   "execution_count": 246,
   "metadata": {},
   "outputs": [
    {
     "name": "stdout",
     "output_type": "stream",
     "text": [
      "If we did't know the gender we would say that the probability that a person is a smoker equals P(A)\n",
      "P(A) = P(smoker) - the probability to be a smoker regardless to gender\n",
      "0    0.911871\n",
      "1    0.088129\n",
      "Name: smoke, dtype: float64\n",
      "P(smoker) = 0.088129\n",
      "\n",
      "Then we find out that the person is a WOMAN.\n",
      "P(B) = P(women) - the probability to choose a woman from the whole group\n",
      "1    0.650429\n",
      "2    0.349571\n",
      "Name: gender, dtype: float64\n",
      "P(women) = 0.650429\n",
      "\n",
      "Distributon of men and women among smokers\n",
      "2    0.868212\n",
      "1    0.131788\n",
      "Name: gender, dtype: float64\n",
      "P(B|A) = P(women|smoker) the probability that a random smoker is a woman\n",
      "P(women|smoker) = 0.131788\n",
      "P(women|smoker) * P(smoker) = 0.131788 * 0.088129 = 0.011614\n",
      "\n",
      "The probability that a random man is a smoker P(A|B) = P(smoker|men)\n",
      "P(smoker|women) = 0.131788 * 0.088129 / 0.650429 = 0.011614 / 0.650429 = 0.017856\n",
      "\n"
     ]
    }
   ],
   "source": [
    "print(f\"\"\"If we don't know the gender we would say that the probability that a person is a smoker equals P(A)\n",
    "P(A) = P(smoker) - the probability to be a smoker regardless to gender\n",
    "{P_A}\n",
    "P(smoker) = {P_A.loc[1]:.6f}\n",
    "\n",
    "Then we find out that the person is a WOMAN.\n",
    "P(B) = P(women) - the probability of choosing a woman from the whole group\n",
    "{P_B}\n",
    "P(women) = {P_B.loc[1]:.6f}\n",
    "\n",
    "Distributon of men and women among smokers\n",
    "{P_BA}\n",
    "P(B|A) = P(women|smoker) the probability that a random smoker is a woman\n",
    "P(women|smoker) = {P_BA.loc[1]:.6f}\n",
    "P(women|smoker) * P(smoker) = {P_BA.loc[1]:.6f} * {P_A.loc[1]:.6f} = {P_BA.loc[1] * P_A.loc[1]:.6f}\n",
    "\n",
    "The probability that a random man is a smoker P(A|B) = P(smoker|men)\n",
    "P(smoker|women) = {P_BA.loc[1]:.6f} * {P_A.loc[1]:.6f} / {P_B.loc[1]:.6f} = {P_BA.loc[1]*P_A.loc[1]:.6f} / {P_B.loc[1]:.6f} = {P_BA.loc[1] * P_A.loc[1] / P_B.loc[1]:.6f}\n",
    "\"\"\")\n",
    "P_smoker_women = P_BA.loc[1] * P_A.loc[1] / P_B.loc[1]"
   ]
  },
  {
   "cell_type": "code",
   "execution_count": 250,
   "metadata": {},
   "outputs": [
    {
     "name": "stdout",
     "output_type": "stream",
     "text": [
      "The proportion is 12\n"
     ]
    }
   ],
   "source": [
    "print(f\"The proportion is {P_smoker_men / P_smoker_women:.0f}\")"
   ]
  },
  {
   "cell_type": "markdown",
   "metadata": {},
   "source": [
    "## Answer: \n",
    "Yes, men are 12x more likely to be smokers"
   ]
  },
  {
   "cell_type": "markdown",
   "metadata": {},
   "source": [
    "---\n",
    "# Question 10: \n",
    "Look at the cumulative number of confirmed cases in Italy between 2020-02-28 and 2020-03-20. \n",
    "Fit an exponential function (y = Ae^(Bx)) to this set to express cummulative cases as function of days passed, by minimizing squared loss. \n",
    "What is the difference between the exponential curve and the total number of real cases on 2020-03-20?\n",
    "- [ ] 11756\n",
    "- [ ] 37414\n",
    "- [ ] 187963\n",
    "- [ ] ~0\n",
    "- [ ] 9785"
   ]
  },
  {
   "cell_type": "code",
   "execution_count": 488,
   "metadata": {},
   "outputs": [],
   "source": [
    "covid_italy = covid.copy()\n",
    "covid_italy = covid_italy[(covid_italy['location'] == 'Italy') & (covid_italy['date'] >= '2020-02-28') & (covid_italy['date'] <= '2020-03-20')]\n",
    "covid_italy['cum_cases'] = covid_italy['new_cases'].cumsum()"
   ]
  },
  {
   "cell_type": "code",
   "execution_count": 489,
   "metadata": {},
   "outputs": [
    {
     "data": {
      "text/plain": [
       "array([0.22133005, 6.36005586])"
      ]
     },
     "execution_count": 489,
     "metadata": {},
     "output_type": "execute_result"
    }
   ],
   "source": [
    "x = np.arange(0, covid_italy.shape[0])\n",
    "y = covid_italy['cum_cases']\n",
    "p = np.polyfit(x, np.log(y), 1)\n",
    "p"
   ]
  },
  {
   "cell_type": "code",
   "execution_count": 490,
   "metadata": {},
   "outputs": [
    {
     "name": "stdout",
     "output_type": "stream",
     "text": [
      "a = 578.2786581652114\n",
      "b = 0.22133004576497883\n"
     ]
    }
   ],
   "source": [
    "# Convert the polynomial back into an exponential\n",
    "a = np.exp(p[1])\n",
    "b = p[0]\n",
    "print(f\"a = {a}\\nb = {b}\")"
   ]
  },
  {
   "cell_type": "code",
   "execution_count": 491,
   "metadata": {},
   "outputs": [],
   "source": [
    "covid_italy['fitted_cases'] = [a * np.exp(b * i) for i in x]"
   ]
  },
  {
   "cell_type": "code",
   "execution_count": 492,
   "metadata": {},
   "outputs": [
    {
     "data": {
      "text/html": [
       "<div>\n",
       "<style scoped>\n",
       "    .dataframe tbody tr th:only-of-type {\n",
       "        vertical-align: middle;\n",
       "    }\n",
       "\n",
       "    .dataframe tbody tr th {\n",
       "        vertical-align: top;\n",
       "    }\n",
       "\n",
       "    .dataframe thead th {\n",
       "        text-align: right;\n",
       "    }\n",
       "</style>\n",
       "<table border=\"1\" class=\"dataframe\">\n",
       "  <thead>\n",
       "    <tr style=\"text-align: right;\">\n",
       "      <th></th>\n",
       "      <th>location</th>\n",
       "      <th>date</th>\n",
       "      <th>new_cases</th>\n",
       "      <th>new_deaths</th>\n",
       "      <th>population</th>\n",
       "      <th>aged_65_older_percent</th>\n",
       "      <th>gdp_per_capita</th>\n",
       "      <th>hospital_beds_per_thousand</th>\n",
       "      <th>cum_cases</th>\n",
       "      <th>fitted_cases</th>\n",
       "    </tr>\n",
       "  </thead>\n",
       "  <tbody>\n",
       "    <tr>\n",
       "      <th>10764</th>\n",
       "      <td>Italy</td>\n",
       "      <td>2020-03-16</td>\n",
       "      <td>2823</td>\n",
       "      <td>370</td>\n",
       "      <td>60461828.0</td>\n",
       "      <td>23.021</td>\n",
       "      <td>35220.084</td>\n",
       "      <td>3.18</td>\n",
       "      <td>23580</td>\n",
       "      <td>24901.084558</td>\n",
       "    </tr>\n",
       "    <tr>\n",
       "      <th>10765</th>\n",
       "      <td>Italy</td>\n",
       "      <td>2020-03-17</td>\n",
       "      <td>4000</td>\n",
       "      <td>347</td>\n",
       "      <td>60461828.0</td>\n",
       "      <td>23.021</td>\n",
       "      <td>35220.084</td>\n",
       "      <td>3.18</td>\n",
       "      <td>27580</td>\n",
       "      <td>31069.959032</td>\n",
       "    </tr>\n",
       "    <tr>\n",
       "      <th>10766</th>\n",
       "      <td>Italy</td>\n",
       "      <td>2020-03-18</td>\n",
       "      <td>3526</td>\n",
       "      <td>347</td>\n",
       "      <td>60461828.0</td>\n",
       "      <td>23.021</td>\n",
       "      <td>35220.084</td>\n",
       "      <td>3.18</td>\n",
       "      <td>31106</td>\n",
       "      <td>38767.080687</td>\n",
       "    </tr>\n",
       "    <tr>\n",
       "      <th>10767</th>\n",
       "      <td>Italy</td>\n",
       "      <td>2020-03-19</td>\n",
       "      <td>4207</td>\n",
       "      <td>473</td>\n",
       "      <td>60461828.0</td>\n",
       "      <td>23.021</td>\n",
       "      <td>35220.084</td>\n",
       "      <td>3.18</td>\n",
       "      <td>35313</td>\n",
       "      <td>48371.050101</td>\n",
       "    </tr>\n",
       "    <tr>\n",
       "      <th>10768</th>\n",
       "      <td>Italy</td>\n",
       "      <td>2020-03-20</td>\n",
       "      <td>5322</td>\n",
       "      <td>429</td>\n",
       "      <td>60461828.0</td>\n",
       "      <td>23.021</td>\n",
       "      <td>35220.084</td>\n",
       "      <td>3.18</td>\n",
       "      <td>40635</td>\n",
       "      <td>60354.260534</td>\n",
       "    </tr>\n",
       "  </tbody>\n",
       "</table>\n",
       "</div>"
      ],
      "text/plain": [
       "      location       date  new_cases  new_deaths  population  \\\n",
       "10764    Italy 2020-03-16       2823         370  60461828.0   \n",
       "10765    Italy 2020-03-17       4000         347  60461828.0   \n",
       "10766    Italy 2020-03-18       3526         347  60461828.0   \n",
       "10767    Italy 2020-03-19       4207         473  60461828.0   \n",
       "10768    Italy 2020-03-20       5322         429  60461828.0   \n",
       "\n",
       "       aged_65_older_percent  gdp_per_capita  hospital_beds_per_thousand  \\\n",
       "10764                 23.021       35220.084                        3.18   \n",
       "10765                 23.021       35220.084                        3.18   \n",
       "10766                 23.021       35220.084                        3.18   \n",
       "10767                 23.021       35220.084                        3.18   \n",
       "10768                 23.021       35220.084                        3.18   \n",
       "\n",
       "       cum_cases  fitted_cases  \n",
       "10764      23580  24901.084558  \n",
       "10765      27580  31069.959032  \n",
       "10766      31106  38767.080687  \n",
       "10767      35313  48371.050101  \n",
       "10768      40635  60354.260534  "
      ]
     },
     "execution_count": 492,
     "metadata": {},
     "output_type": "execute_result"
    }
   ],
   "source": [
    "covid_italy.tail()"
   ]
  },
  {
   "cell_type": "code",
   "execution_count": 493,
   "metadata": {},
   "outputs": [
    {
     "data": {
      "text/plain": [
       "10768   -19719.260534\n",
       "dtype: float64"
      ]
     },
     "execution_count": 493,
     "metadata": {},
     "output_type": "execute_result"
    }
   ],
   "source": [
    "covid_italy[covid_italy['date'] == '2020-03-20']['cum_cases'] - covid_italy[covid_italy['date'] == '2020-03-20']['fitted_cases']"
   ]
  },
  {
   "cell_type": "code",
   "execution_count": 496,
   "metadata": {},
   "outputs": [
    {
     "data": {
      "image/png": "[encoded data removed]",
      "text/plain": [
       "<Figure size 640x480 with 1 Axes>"
      ]
     },
     "metadata": {},
     "output_type": "display_data"
    }
   ],
   "source": [
    "ax = plt.axes()\n",
    "ax.plot(covid_italy['date'], covid_italy['cum_cases'], color='r', label='Number of cases')\n",
    "ax.plot(covid_italy['date'], covid_italy['fitted_cases'], 'b:', label='Fitted curve')\n",
    "ax.set(\n",
    "    title='Cumulative number of confirmed cases in Italy between 2020-02-28 and 2020-03-20', \n",
    "    xlabel='date', \n",
    "    ylabel='number of cases'\n",
    "    )\n",
    "ax.legend();"
   ]
  },
  {
   "cell_type": "markdown",
   "metadata": {},
   "source": [
    "## Answer: \n",
    "19719"
   ]
  },
  {
   "cell_type": "markdown",
   "metadata": {},
   "source": [
    "---\n",
    "# Question 11: \n",
    "When did the difference in the total number of confirmed cases between Italy and Germaty become more than 10 000?\n",
    "\n",
    "Second dataset COVID-19 cases. This dataset contains daily COVID-19 cases for all countries in the world. Each row represents a calendar day. The rows also contains some simple information about the countries, like population, percentage of the population over 65, GDP, and hospital beds per 1000 inhabitants. \n",
    "- [ ] 2020-02-28\n",
    "- [ ] 2020-02-29\n",
    "- [ ] 2020-03-16\n",
    "- [x] **2020-03-12**\n",
    "- [ ] 2020-03-01"
   ]
  },
  {
   "cell_type": "code",
   "execution_count": 505,
   "metadata": {},
   "outputs": [],
   "source": [
    "covid_italy_germany = covid.copy()\n",
    "covid_italy_germany = covid_italy_germany[covid_italy_germany['location'].isin(['Italy', 'Germany'])]\n",
    "covid_italy_germany = pd.pivot_table(covid_italy_germany, values='new_cases', columns='location', index='date').cumsum()\n",
    "covid_italy_germany['difference'] = abs(covid_italy_germany['Germany'] - covid_italy_germany['Italy'])"
   ]
  },
  {
   "cell_type": "code",
   "execution_count": 536,
   "metadata": {},
   "outputs": [
    {
     "data": {
      "text/html": [
       "<div>\n",
       "<style scoped>\n",
       "    .dataframe tbody tr th:only-of-type {\n",
       "        vertical-align: middle;\n",
       "    }\n",
       "\n",
       "    .dataframe tbody tr th {\n",
       "        vertical-align: top;\n",
       "    }\n",
       "\n",
       "    .dataframe thead th {\n",
       "        text-align: right;\n",
       "    }\n",
       "</style>\n",
       "<table border=\"1\" class=\"dataframe\">\n",
       "  <thead>\n",
       "    <tr style=\"text-align: right;\">\n",
       "      <th>location</th>\n",
       "      <th>Germany</th>\n",
       "      <th>Italy</th>\n",
       "      <th>difference</th>\n",
       "    </tr>\n",
       "    <tr>\n",
       "      <th>date</th>\n",
       "      <th></th>\n",
       "      <th></th>\n",
       "      <th></th>\n",
       "    </tr>\n",
       "  </thead>\n",
       "  <tbody>\n",
       "    <tr>\n",
       "      <th>2020-03-12</th>\n",
       "      <td>1567</td>\n",
       "      <td>12462</td>\n",
       "      <td>10895</td>\n",
       "    </tr>\n",
       "  </tbody>\n",
       "</table>\n",
       "</div>"
      ],
      "text/plain": [
       "location    Germany  Italy  difference\n",
       "date                                  \n",
       "2020-03-12     1567  12462       10895"
      ]
     },
     "execution_count": 536,
     "metadata": {},
     "output_type": "execute_result"
    }
   ],
   "source": [
    "covid_italy_germany[covid_italy_germany['difference'] > 10e3].head(1)"
   ]
  },
  {
   "cell_type": "code",
   "execution_count": 534,
   "metadata": {},
   "outputs": [
    {
     "data": {
      "image/png": "[encoded data removed]",
      "text/plain": [
       "<Figure size 1500x500 with 2 Axes>"
      ]
     },
     "metadata": {},
     "output_type": "display_data"
    }
   ],
   "source": [
    "fig, ax = plt.subplots(1, 2, figsize=(15, 5),)\n",
    "\n",
    "ax[0].plot(covid_italy_germany.index, covid_italy_germany['difference'], label='Difference')\n",
    "ax[0].plot(covid_italy_germany.index, [10000]*covid_italy_germany.shape[0], color='r', label='10K')\n",
    "ax[0].set(\n",
    "    title='Difference between number of cases in Germany and Italy', \n",
    "    xlabel='date', \n",
    "    ylabel='number of cases'\n",
    "    )\n",
    "ax[0].legend()\n",
    "\n",
    "ax[1].plot(covid_italy_germany.index, covid_italy_germany['Germany'], color='brown', label='Germany')\n",
    "ax[1].plot(covid_italy_germany.index, covid_italy_germany['Italy'], color='green', label='Italy')\n",
    "ax[1].set(\n",
    "    title='Cumulative number of confirmed cases', \n",
    "    xlabel='date', \n",
    "    ylabel='number of cases'\n",
    "    )\n",
    "ax[1].legend();"
   ]
  },
  {
   "cell_type": "markdown",
   "metadata": {},
   "source": [
    "## Answer: \n",
    "2020-03-12"
   ]
  },
  {
   "cell_type": "markdown",
   "metadata": {},
   "source": [
    "---\n",
    "# Question 12: \n",
    "What percentage of people are more than 2 standard deviations far from the average height?\n",
    "- [ ] 5%\n",
    "- [ ] 3%\n",
    "- [ ] 2%\n",
    "- [ ] 7%\n",
    "- [ ] 11%"
   ]
  },
  {
   "cell_type": "markdown",
   "metadata": {},
   "source": [
    "## Answer: \n",
    "?"
   ]
  }
 ],
 "metadata": {
  "interpreter": {
   "hash": "389ed1aa9bfd623af8a6fb43e3b6f9ac118c9137efdfd9df7f3c283bfd0bc4b4"
  },
  "kernelspec": {
   "display_name": "Python 3.10.8 ('env_3_10_4')",
   "language": "python",
   "name": "python3"
  },
  "language_info": {
   "codemirror_mode": {
    "name": "ipython",
    "version": 3
   },
   "file_extension": ".py",
   "mimetype": "text/x-python",
   "name": "python",
   "nbconvert_exporter": "python",
   "pygments_lexer": "ipython3",
   "version": "3.10.8"
  },
  "orig_nbformat": 4
 },
 "nbformat": 4,
 "nbformat_minor": 2
}
